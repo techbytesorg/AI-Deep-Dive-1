{
 "cells": [
  {
   "cell_type": "markdown",
   "id": "96f33ffb",
   "metadata": {
    "id": "96f33ffb"
   },
   "source": [
    "# SUV Purchase Predictor\n",
    "\n",
    "In this notebook, we will train a logistic regression model to predict whether or not one should buy an SUV given their age, gender, and annual salary. The purpose of this programming exercise is to expose students to the **PyTorch** framework, as well as diving deeper into the architecture of learning algorithms.\n",
    "\n",
    "## Introduction\n",
    "\n",
    "Suppose you are thinking about buying an SUV, however you are not sure whether or not you should drop the money on a new car. You decide to make a classifier that learns people's decisions in the past to aid you in your own decision. You are given a dataset with the features `UserID`, `Gender`, `Age`, `EstimatedSalary`, as well as your label `Purchased`.\n",
    "\n",
    "## Unpacking the dataset"
   ]
  },
  {
   "cell_type": "code",
   "execution_count": null,
   "id": "6aa5aaf4",
   "metadata": {
    "colab": {
     "base_uri": "https://localhost:8080/"
    },
    "id": "6aa5aaf4",
    "outputId": "b9eee032-7061-4cad-fc3d-bccd844fee77"
   },
   "outputs": [],
   "source": [
    "pass"
   ]
  },
  {
   "cell_type": "code",
   "execution_count": null,
   "id": "aa706a1b",
   "metadata": {
    "colab": {
     "base_uri": "https://localhost:8080/",
     "height": 413
    },
    "id": "aa706a1b",
    "outputId": "aa5fd4a9-9bca-41f5-89ba-f12159071ddb"
   },
   "outputs": [],
   "source": [
    "pass"
   ]
  },
  {
   "cell_type": "code",
   "execution_count": null,
   "id": "0e9c7f8a",
   "metadata": {
    "colab": {
     "base_uri": "https://localhost:8080/",
     "height": 413
    },
    "id": "0e9c7f8a",
    "outputId": "673ef3e2-49b3-45b4-8e05-43cfa2752ac2"
   },
   "outputs": [],
   "source": [
    "pass"
   ]
  },
  {
   "cell_type": "code",
   "execution_count": null,
   "id": "6903c155",
   "metadata": {
    "colab": {
     "base_uri": "https://localhost:8080/",
     "height": 413
    },
    "id": "6903c155",
    "outputId": "d501fa45-f25c-4b91-9ebc-cc90a507380b"
   },
   "outputs": [],
   "source": [
    "pass"
   ]
  },
  {
   "cell_type": "code",
   "execution_count": null,
   "id": "8939ee7a",
   "metadata": {
    "colab": {
     "base_uri": "https://localhost:8080/"
    },
    "id": "8939ee7a",
    "outputId": "0debe96c-5343-4bdc-e335-df2476ea4a6b"
   },
   "outputs": [],
   "source": [
    "pass"
   ]
  },
  {
   "cell_type": "code",
   "execution_count": null,
   "id": "11d507b2",
   "metadata": {
    "colab": {
     "base_uri": "https://localhost:8080/"
    },
    "id": "11d507b2",
    "outputId": "e189e7bc-d79e-4d55-efc2-97df5ef43ee7"
   },
   "outputs": [],
   "source": [
    "def class_weights(Y_train, pos_weight, neg_weight):\n",
    "    \"\"\"\n",
    "    calculates the weights for each and every training example\n",
    "    Args:\n",
    "        Y_train: training labels\n",
    "        pos_weight: Weight of positive labels\n",
    "        neg_weight: Weight of negative labels\n",
    "    Returns:\n",
    "        weights: an np.array where its shape is identical to Y_train\n",
    "    \"\"\"\n",
    "    pass"
   ]
  },
  {
   "cell_type": "markdown",
   "id": "be9b3d45",
   "metadata": {
    "id": "be9b3d45"
   },
   "source": [
    "## Training the Logistic Regression Model\n",
    "\n",
    "Recall from the Topic 2 Notebook, Logistic Regression differs from Linear Regression in terms of the Activation function (sigmoid) and the Cost function (BCE). Most other aspects are similar. Here we will use the `BatchNorm1d` layer to normalize the inputs."
   ]
  },
  {
   "cell_type": "code",
   "execution_count": null,
   "id": "c974717d",
   "metadata": {
    "id": "c974717d"
   },
   "outputs": [],
   "source": [
    "pass"
   ]
  },
  {
   "cell_type": "code",
   "execution_count": null,
   "id": "2584aecd",
   "metadata": {
    "colab": {
     "base_uri": "https://localhost:8080/"
    },
    "id": "2584aecd",
    "outputId": "b2ecfad2-1db4-4cb4-d0b4-22cc92cc2044",
    "scrolled": true
   },
   "outputs": [],
   "source": [
    "pass"
   ]
  },
  {
   "cell_type": "code",
   "execution_count": null,
   "id": "024b97d5",
   "metadata": {
    "colab": {
     "base_uri": "https://localhost:8080/"
    },
    "id": "024b97d5",
    "outputId": "45c1b278-964f-44c8-cd38-923193dda937"
   },
   "outputs": [],
   "source": [
    "pass"
   ]
  },
  {
   "cell_type": "code",
   "execution_count": null,
   "id": "295c7dbe",
   "metadata": {
    "colab": {
     "base_uri": "https://localhost:8080/",
     "height": 265
    },
    "id": "295c7dbe",
    "outputId": "0a95bf5b-f170-4aba-b355-a5abc6c93b75"
   },
   "outputs": [],
   "source": [
    "def plot_conf_mat(Y_pred, Y_gt):\n",
    "    \"\"\"\n",
    "    Plots Confusion Matrix\n",
    "    Args:\n",
    "        Y_pred: predictions array (np.array)\n",
    "        Y_gt: ground truth array (np.array)\n",
    "    \"\"\"\n",
    "    pass"
   ]
  },
  {
   "cell_type": "markdown",
   "id": "559c7c7c",
   "metadata": {
    "id": "559c7c7c"
   },
   "source": [
    "### Observations\n",
    "\n",
    "After training our Logistic Regression Classifier, we observe a very high Accuracy and F1 Score, which is awesome! Lets keep track of our progress:\n",
    "\n",
    "| Model | Observations | Accuracy | F1 | \n",
    "|:- |:- |:- | :- |\n"
   ]
  },
  {
   "cell_type": "code",
   "execution_count": null,
   "id": "57d2328f",
   "metadata": {
    "id": "57d2328f"
   },
   "outputs": [],
   "source": [
    "pass"
   ]
  },
  {
   "cell_type": "code",
   "execution_count": null,
   "id": "34b085e1",
   "metadata": {
    "id": "34b085e1"
   },
   "outputs": [],
   "source": []
  }
 ],
 "metadata": {
  "colab": {
   "name": "suv_purchase.ipynb",
   "provenance": []
  },
  "kernelspec": {
   "display_name": "Python 3",
   "language": "python",
   "name": "python3"
  },
  "language_info": {
   "codemirror_mode": {
    "name": "ipython",
    "version": 3
   },
   "file_extension": ".py",
   "mimetype": "text/x-python",
   "name": "python",
   "nbconvert_exporter": "python",
   "pygments_lexer": "ipython3",
   "version": "3.9.2"
  }
 },
 "nbformat": 4,
 "nbformat_minor": 5
}

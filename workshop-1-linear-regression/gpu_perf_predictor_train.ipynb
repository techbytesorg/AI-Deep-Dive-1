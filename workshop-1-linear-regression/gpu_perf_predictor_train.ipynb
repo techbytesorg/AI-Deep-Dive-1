{
 "cells": [
  {
   "cell_type": "markdown",
   "id": "ee529f8d",
   "metadata": {
    "id": "ee529f8d"
   },
   "source": [
    "# Training a Linear Regression Model to Predict GPU Performance \n",
    "\n",
    "Welcome to our programming project! This is where you'll get to apply the knowledge you obtained in class on a real world project. While the demos are done using SKLearn for simplicity, these programming projects aim to expose you to PyTorch, an industrial library for Machine Learning.\n",
    "\n",
    "\n",
    "## Introduction\n",
    "\n",
    "The GPU is a piece of computing hardware first developed in the early 1990s for accelerating graphical applications. Due to its highly parallel nature, people eventually found great uses of GPUs in areas other than gaming. Today, the GPU market is a 20 billion dollar market that serves the fields of video games, AI, crypto, scientific computing and engineering sectors.\n",
    "\n",
    "In this project, we will train a linear regression model on a GPU dataset -- our goal is to build a web application that takes in the **process node, die area, memory size,** and the number of **millions of transistors** to predict the **compute performance** of that GPU.\n",
    "\n",
    "## Importing the Necessary Libraries\n",
    "\n",
    "This project aims to train a linear regression model on the **AMD Radeon and Nvidia GPU Specifications** dataset by  JetBrains Datalore. Here are a list of libraries used in this project:\n",
    "\n",
    "- **PyTorch**: A powerful machine learning Library\n",
    "- **TorchMetrics**: We only use it for its R2score function\n",
    "- **Pandas** and **Numpy**: Used for easy data storage and linear algebra\n",
    "- **SKLearn**: Train test split \n",
    "- **Matplotlib** and **Bokeh**: For creating static and dynamic visualizations"
   ]
  },
  {
   "cell_type": "code",
   "execution_count": 1,
   "id": "665b1f06",
   "metadata": {
    "colab": {
     "base_uri": "https://localhost:8080/"
    },
    "id": "665b1f06",
    "outputId": "41fa01d5-8a2c-489d-b496-4bf40cda0eb4"
   },
   "outputs": [],
   "source": [
    "pass"
   ]
  },
  {
   "cell_type": "markdown",
   "id": "5815bfeb",
   "metadata": {
    "id": "5815bfeb"
   },
   "source": [
    "## Loading the Dataset\n",
    "\n",
    "The first step is to load and visualize the  dataset. This is crucial in any machine learning development process, as this can give you an idea of what features to include or exclude."
   ]
  },
  {
   "cell_type": "code",
   "execution_count": 2,
   "id": "2ca9fdf3",
   "metadata": {
    "colab": {
     "base_uri": "https://localhost:8080/",
     "height": 963
    },
    "id": "2ca9fdf3",
    "outputId": "0777cfae-78ab-4e50-d73b-fed10789bf0b"
   },
   "outputs": [],
   "source": [
    "pass"
   ]
  },
  {
   "cell_type": "markdown",
   "id": "90ca98c3",
   "metadata": {
    "id": "90ca98c3"
   },
   "source": [
    "Here, we are going to choose the columns `Transistors (mln)`, `Die size`, `Memory size` and `Fab` to be our **training features** and `GFLOPS` to be our **labels**."
   ]
  },
  {
   "cell_type": "code",
   "execution_count": 3,
   "id": "6ae7dff4",
   "metadata": {
    "colab": {
     "base_uri": "https://localhost:8080/"
    },
    "id": "6ae7dff4",
    "outputId": "217d25a5-1212-4434-c728-69020a987dd1"
   },
   "outputs": [],
   "source": [
    "pass"
   ]
  },
  {
   "cell_type": "markdown",
   "id": "5f90e806",
   "metadata": {
    "id": "5f90e806"
   },
   "source": [
    "## Prototyping Our First Model (Multi-variate Linear Regression)\n",
    "\n",
    "Our first model is going to perform Multi-variate linear regression on the data. In PyTorch, we actually have to define our own class (which is a subclass of torch.nn.Module) as well as its `forward()` function."
   ]
  },
  {
   "cell_type": "code",
   "execution_count": 4,
   "id": "d9970fbd",
   "metadata": {
    "id": "d9970fbd"
   },
   "outputs": [],
   "source": [
    "pass"
   ]
  },
  {
   "cell_type": "code",
   "execution_count": 5,
   "id": "adce884c",
   "metadata": {
    "id": "adce884c"
   },
   "outputs": [],
   "source": [
    "pass"
   ]
  },
  {
   "cell_type": "code",
   "execution_count": 6,
   "id": "b55ebc13",
   "metadata": {
    "id": "b55ebc13"
   },
   "outputs": [],
   "source": [
    "pass"
   ]
  },
  {
   "cell_type": "code",
   "execution_count": 7,
   "id": "e31c77e7",
   "metadata": {
    "colab": {
     "base_uri": "https://localhost:8080/"
    },
    "id": "e31c77e7",
    "outputId": "469cf404-121c-48c6-f2b0-281aa8b2b112"
   },
   "outputs": [],
   "source": [
    "pass"
   ]
  },
  {
   "cell_type": "code",
   "execution_count": 8,
   "id": "edd8f0a0",
   "metadata": {
    "colab": {
     "base_uri": "https://localhost:8080/"
    },
    "id": "edd8f0a0",
    "outputId": "0317270c-be22-463a-d148-94e80727e629"
   },
   "outputs": [],
   "source": [
    "pass"
   ]
  },
  {
   "cell_type": "markdown",
   "id": "83bea400",
   "metadata": {
    "id": "83bea400"
   },
   "source": [
    "### Observations\n",
    "\n",
    "Our first attempt at training a linear regression model provided us with a few observations to note. First is that the loss is huge, even after gradient descent. This is because we are working with huge labels and our output space is very large, so do not be alarmed by the loss. It is better to note the R2 score, which our first model achieved 74%, which is fairly good. Lets fill in the observation table:\n",
    "\n",
    "| Model | observations | R2 |\n",
    "| :---- | :----------- | :--- |\n",
    "\n"
   ]
  },
  {
   "cell_type": "markdown",
   "id": "f9571c68",
   "metadata": {
    "id": "f9571c68"
   },
   "source": [
    "## Prototyping Our Second Model (Polynomial Regression)\n",
    "\n",
    "We are going to train a second model, this time using polynomial regression with cubic features. This in theory should be able to fit a more complicated function to the data."
   ]
  },
  {
   "cell_type": "code",
   "execution_count": 9,
   "id": "46f35e3b",
   "metadata": {
    "colab": {
     "base_uri": "https://localhost:8080/"
    },
    "id": "46f35e3b",
    "outputId": "074d57c8-8f3f-4cdc-d71b-448738531285"
   },
   "outputs": [],
   "source": [
    "pass"
   ]
  },
  {
   "cell_type": "code",
   "execution_count": 10,
   "id": "42080fca",
   "metadata": {
    "id": "42080fca"
   },
   "outputs": [],
   "source": [
    "pass"
   ]
  },
  {
   "cell_type": "code",
   "execution_count": 11,
   "id": "b277c082",
   "metadata": {
    "id": "b277c082"
   },
   "outputs": [],
   "source": [
    "pass"
   ]
  },
  {
   "cell_type": "code",
   "execution_count": 12,
   "id": "ae68d440",
   "metadata": {
    "id": "ae68d440"
   },
   "outputs": [],
   "source": [
    "pass"
   ]
  },
  {
   "cell_type": "code",
   "execution_count": 13,
   "id": "5740e303",
   "metadata": {
    "colab": {
     "base_uri": "https://localhost:8080/"
    },
    "id": "5740e303",
    "outputId": "c21e7d99-1af0-46f3-9420-50f105b11edb"
   },
   "outputs": [],
   "source": [
    "pass"
   ]
  },
  {
   "cell_type": "code",
   "execution_count": 14,
   "id": "d4ca9263",
   "metadata": {
    "colab": {
     "base_uri": "https://localhost:8080/"
    },
    "id": "d4ca9263",
    "outputId": "1167b15d-b40d-4b02-c267-85350da33f0b"
   },
   "outputs": [],
   "source": [
    "pass"
   ]
  },
  {
   "cell_type": "markdown",
   "id": "533d1a1f",
   "metadata": {
    "id": "533d1a1f"
   },
   "source": [
    "This looks even better! I think this model is ready for use. Before we save the model, lets record the observations in the table below:\n",
    "\n",
    "| Model | observations | R2 |\n",
    "| :---- | :----------- | :--- |\n"
   ]
  },
  {
   "cell_type": "code",
   "execution_count": 15,
   "id": "ad52143e",
   "metadata": {
    "id": "ad52143e"
   },
   "outputs": [],
   "source": [
    "pass"
   ]
  },
  {
   "cell_type": "markdown",
   "id": "1a0d63c8",
   "metadata": {
    "id": "1a0d63c8"
   },
   "source": [
    "## References\n",
    "\n",
    "1. https://www.alliedmarketresearch.com/graphic-processing-unit-market\n",
    "2. https://pytorch.org/docs/stable/generated/torch.nn.Module.html#torch.nn.Module"
   ]
  },
  {
   "cell_type": "code",
   "execution_count": null,
   "id": "bedb3c55",
   "metadata": {
    "id": "bedb3c55"
   },
   "outputs": [],
   "source": []
  }
 ],
 "metadata": {
  "colab": {
   "name": "gpu_perf_predictor_train.ipynb",
   "provenance": []
  },
  "kernelspec": {
   "display_name": "Python 3",
   "language": "python",
   "name": "python3"
  },
  "language_info": {
   "codemirror_mode": {
    "name": "ipython",
    "version": 3
   },
   "file_extension": ".py",
   "mimetype": "text/x-python",
   "name": "python",
   "nbconvert_exporter": "python",
   "pygments_lexer": "ipython3",
   "version": "3.9.2"
  }
 },
 "nbformat": 4,
 "nbformat_minor": 5
}
